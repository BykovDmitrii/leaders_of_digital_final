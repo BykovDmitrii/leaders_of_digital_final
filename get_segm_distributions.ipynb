{
  "nbformat": 4,
  "nbformat_minor": 0,
  "metadata": {
    "colab": {
      "name": "get_segm_distributions.ipynb",
      "provenance": [],
      "collapsed_sections": []
    },
    "kernelspec": {
      "name": "python3",
      "display_name": "Python 3"
    },
    "language_info": {
      "name": "python"
    }
  },
  "cells": [
    {
      "cell_type": "code",
      "metadata": {
        "id": "uEGKRH0WSMOv"
      },
      "source": [
        "import pandas as pd\n",
        "import numpy as np"
      ],
      "execution_count": 2,
      "outputs": []
    },
    {
      "cell_type": "code",
      "metadata": {
        "id": "ThubF4QWSrWb"
      },
      "source": [
        "# train = pd.read_csv(\"/content/drive/MyDrive/colab/hackfinal/train_part_small_8x.csv\")\n",
        "train = pd.read_csv(\"train.csv\")"
      ],
      "execution_count": 7,
      "outputs": []
    },
    {
      "cell_type": "code",
      "metadata": {
        "id": "ul2JuszRGgqp"
      },
      "source": [
        "train = train.fillna(\"None\")\n",
        "seg_stat = train[[\"oblast\", \"Segment\"]].groupby(\"oblast\").count()[\"Segment\"]\n",
        "areas = pd.DataFrame(dict(area=seg_stat.keys(), total=seg_stat.values))\n",
        "# pd.merge(areas, train[train[\"Segment\"] == 1][[\"oblast\", \"Segment\"]].groupby(\"oblast\").count()[\"Segment\"].values)\n",
        "for i in range(5):\n",
        "    seg_stat = train[train[\"Segment\"] == i + 1][[\"oblast\", \"Segment\"]].groupby(\"oblast\").count()[\"Segment\"]\n",
        "    areas = pd.merge(areas, pd.DataFrame({\"area\": seg_stat.keys(), \"segment_{}\".format(i+1): seg_stat.values}), on=\"area\", how='left', suffixes=None)\n",
        "\n",
        "train[\"os_version\"] = train[\"osv\"].apply(lambda x: str(x).split(\".\")[0])\n",
        "os_stat = train[[\"os\", \"os_version\", \"Segment\"]].groupby([\"os\", \"os_version\"]).count()\n",
        "os_stat = pd.DataFrame(dict(os=list(os_stat[\"Segment\"].keys()), total=os_stat[\"Segment\"].values))\n",
        "for i in range(5):\n",
        "    os_seg_stat = train[train[\"Segment\"] == i+1][[\"os\", \"os_version\", \"Segment\"]].groupby([\"os\", \"os_version\"]).count()\n",
        "    os_seg_stat = pd.DataFrame({\"os\": list(os_seg_stat[\"Segment\"].keys()), \"segment_{}\".format(i+1): os_seg_stat[\"Segment\"].values})\n",
        "    os_stat = pd.merge(os_stat, os_seg_stat, on=\"os\", how='left', suffixes=None)\n",
        "\n",
        "areas_stat = areas.copy()\n",
        "r = list(areas_stat[areas_stat[\"total\"] < 1000].sum())\n",
        "r[0] = \"Прочее\"\n",
        "areas_stat = areas_stat[areas_stat[\"total\"] >= 1000]\n",
        "areas_stat.loc[len(areas_stat)] = r\n",
        "\n",
        "\n",
        "r = list(os_stat[os_stat[\"total\"] < 1000].sum())\n",
        "r[0] = \"Прочее\"\n",
        "os_stat.loc[len(os_stat)] = r\n",
        "os_stat = os_stat[os_stat[\"total\"] >= 1000]\n",
        "\n",
        "areas_stat.to_csv(\"area.csv\", index=False)\n",
        "os_stat.to_csv(\"os_stat.csv\", index=False)"
      ],
      "execution_count": null,
      "outputs": []
    },
    {
      "cell_type": "code",
      "metadata": {
        "id": "r82F69TQbCuQ"
      },
      "source": [
        ""
      ],
      "execution_count": null,
      "outputs": []
    }
  ]
}