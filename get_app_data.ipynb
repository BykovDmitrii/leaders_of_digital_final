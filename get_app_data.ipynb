{
  "nbformat": 4,
  "nbformat_minor": 0,
  "metadata": {
    "colab": {
      "name": "get_app_data.ipynb",
      "provenance": [],
      "collapsed_sections": []
    },
    "kernelspec": {
      "name": "python3",
      "display_name": "Python 3"
    },
    "language_info": {
      "name": "python"
    }
  },
  "cells": [
    {
      "cell_type": "code",
      "metadata": {
        "id": "6KsFagr8U7Ea"
      },
      "source": [
        "import pandas as pd\n",
        "data = pd.read_csv(\"train.csv\")\n",
        "# data = pd.read_csv(\"/content/drive/MyDrive/colab/hackfinal/train_part_small_8x.csv\")\n",
        "bundles_b = data[data.os.str.lower() == 'android'].bundle.unique()\n",
        "ios_bundles = data[data.os.str.lower() == 'ios'].bundle.unique()"
      ],
      "execution_count": 2,
      "outputs": []
    },
    {
      "cell_type": "code",
      "metadata": {
        "id": "K2XHhtx6Zgdg"
      },
      "source": [
        "!pip install google_play_scraper\n",
        "!pip install async-itunes-app-scraper-dmi"
      ],
      "execution_count": null,
      "outputs": []
    },
    {
      "cell_type": "code",
      "metadata": {
        "id": "8tGQBLExB-ua",
        "colab": {
          "base_uri": "https://localhost:8080/"
        },
        "outputId": "825d6323-fafb-4310-f7b9-55b503345b42"
      },
      "source": [
        "from multiprocessing.pool import ThreadPool\n",
        "from google_play_scraper import app\n",
        "\n",
        "pool = ThreadPool(100)\n",
        "def get_request(bundle):\n",
        "    try:\n",
        "        result = app(\n",
        "            bundle,\n",
        "            lang='ru',\n",
        "            country='ru')\n",
        "        if 'screenshots' in result and 'comments' in result:\n",
        "            del result['screenshots']\n",
        "            del result['comments']\n",
        "        return (bundle, {'result': result})\n",
        "    except Exception as e:\n",
        "        return (bundle, {'error': str(e)})\n",
        "\n",
        "import time, io, json\n",
        "from tqdm.auto import tqdm\n",
        "import json\n",
        "\n",
        "import gc\n",
        "t1 = time.time()\n",
        "for idx, bundles_a in enumerate([bundles_b[i : i+1000] for i in range(0, len(bundles_b), 1000)]):\n",
        "    gc.collect()\n",
        "    bundle_info = pool.map(get_request, list(bundles_a))\n",
        "    t2 = time.time()\n",
        "    print(idx, t2 - t1)\n",
        "    bundle_info = dict(bundle_info)\n",
        "    with open('g_store_description_part{}.json'.format(idx), 'w') as f:\n",
        "        json.dump(bundle_info, f, ensure_ascii=False)"
      ],
      "execution_count": 7,
      "outputs": [
        {
          "output_type": "stream",
          "name": "stdout",
          "text": [
            "0 3.1379313468933105\n"
          ]
        }
      ]
    },
    {
      "cell_type": "code",
      "metadata": {
        "id": "vEdrji6LDNaN"
      },
      "source": [
        "import nest_asyncio\n",
        "from itunes_app_scraper.scraper import AppStoreScraper\n",
        "# from app_store_scraper import AppStore\n",
        "# from pprint import pprint\n",
        "import asyncio\n",
        "\n",
        "nest_asyncio.apply()\n",
        "\n",
        "class TickBatcher(object):\n",
        "\n",
        "    def __init__(self):\n",
        "        self.one_batch = {}\n",
        "        self.scrapper = AppStoreScraper()\n",
        "\n",
        "    async def sub(self, ids):\n",
        "        try:\n",
        "            async for item in self.scrapper.get_multiple_app_details(ids, country='ru', lang='ru'):\n",
        "                self.one_batch[ids[0]] = item\n",
        "        except: \n",
        "            print(\"error occured with {}\".format(ids))\n",
        "\n",
        "proc = TickBatcher()\n",
        "loop = asyncio.get_event_loop()\n",
        "batch_size = 1\n",
        "import tqdm\n",
        "for i in tqdm.tqdm(range(len(ios_bundles) // batch_size + 1)):\n",
        "    batch = ios_bundles[i * batch_size: (i+1)*batch_size]\n",
        "\n",
        "    loop.run_until_complete(proc.sub(batch))\n",
        "\n",
        "loop.close()\n"
      ],
      "execution_count": null,
      "outputs": []
    },
    {
      "cell_type": "code",
      "metadata": {
        "id": "oVoHBunifBTN"
      },
      "source": [
        "with open(\"ios_apps_info.json\", 'w') as f:\n",
        "    json.dump(proc.one_batch, f)"
      ],
      "execution_count": 24,
      "outputs": []
    },
    {
      "cell_type": "code",
      "metadata": {
        "id": "-I1L_Fndfam_"
      },
      "source": [
        "info_andr = {}\n",
        "for i in range(73+1): # for case if 73 parts of json were saved\n",
        "    filename = f\"g_store_description_part_{i}.json\"\n",
        "    with open(filename, \"r\") as f:\n",
        "        part_dict = json.load(f)\n",
        "    info_andr.update(part_dict)\n",
        "\n",
        "with open(\"ios_apps_info.json\", \"r\") as f:\n",
        "    info_ios = json.load(f)\n",
        "\n",
        "print(len(info_andr), len(info_ios))\n",
        "for dic in info_andr, info_ios:\n",
        "    for k in list(dic.keys()):\n",
        "        e = dic[k].get('error')\n",
        "        if e is not None and e != '':\n",
        "            del dic[k]\n",
        "print(len(info_andr), len(info_ios))\n",
        "\n",
        "for k in list(info_andr.keys()):\n",
        "    info_andr[k] = info_andr[k]['result']\n",
        "    info_andr[k]['os'] = 'android'\n",
        "\n",
        "for k in info_ios:\n",
        "    info_ios[k]['os'] = 'ios'\n",
        "\n",
        "print(len(info_andr), len(info_ios))\n",
        "for k in list(info_ios.keys()):\n",
        "    kind = info_ios[k].get('kind')\n",
        "    if kind != 'software':\n",
        "        print('delete', k)\n",
        "        del info_ios[k]\n",
        "print(len(info_andr), len(info_ios))\n",
        "\n",
        "for k in list(info_andr.keys()):\n",
        "    v = info_andr[k]\n",
        "    a = v.get('description')\n",
        "    if a is None:\n",
        "        print('delete', k)\n",
        "        del info_andr[k]\n",
        "\n",
        "for k in list(info_andr.keys()):\n",
        "    a = info_andr[k]['description']\n",
        "    info_andr[k]['adve'] = a\n",
        "    del info_andr[k]['description']\n",
        "\n",
        "for k in list(info_ios.keys()):\n",
        "    kind = info_ios[k].get('kind')\n",
        "    if kind != 'software':\n",
        "        print('delete', k)\n",
        "        del info_ios[k]\n",
        "\n",
        "info = info_andr.copy()\n",
        "info.update(info_ios)\n",
        "\n",
        "import json\n",
        "with open(\"/content/hackfinal/apps_info.json\", 'w') as f:\n",
        "    json.dump(info, f, ensure_ascii=False)"
      ],
      "execution_count": null,
      "outputs": []
    }
  ]
}